{
 "cells": [
  {
   "cell_type": "code",
   "execution_count": null,
   "metadata": {},
   "outputs": [],
   "source": [
    "import csv\n",
    "import codecs\n",
    "\n",
    "\n",
    "class Student(object):\n",
    "    def __init__(self, name, age, fov):\n",
    "        self._name = name\n",
    "        self._age = age\n",
    "        self._fov = fov\n",
    "        self._index = -1\n",
    "\n",
    "    @property\n",
    "    def age(self):\n",
    "        return self._age\n",
    "\n",
    "    @property\n",
    "    def name(self):\n",
    "        return self._name\n",
    "\n",
    "    @property\n",
    "    def fov(self):\n",
    "        return self._fov\n",
    "\n",
    "\n",
    "fileName = 'student.csv'\n",
    "students = [Student('hanli', 188, 'xiulian'), Student('hanlei', 18, 'study')]\n",
    "\n",
    "try:\n",
    "    with open(fileName, 'w', encoding='utf-8') as f:\n",
    "        f.write(codecs.BOM_UTF8.decode())\n",
    "        writer = csv.writer(f)\n",
    "        for item in students:\n",
    "            writer.writerow([item.name, item.age, item.fov])\n",
    "except BaseException as e:\n",
    "    print('can not writer file: ', fileName, e)\n",
    "else:\n",
    "    print('save complete')\n"
   ]
  }
 ],
 "metadata": {
  "language_info": {
   "name": "python"
  }
 },
 "nbformat": 4,
 "nbformat_minor": 2
}
